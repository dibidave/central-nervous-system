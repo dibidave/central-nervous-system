{
 "cells": [
  {
   "cell_type": "code",
   "execution_count": 1,
   "metadata": {
    "collapsed": true
   },
   "outputs": [],
   "source": [
    "from Sonnet_HMM import *"
   ]
  },
  {
   "cell_type": "code",
   "execution_count": 2,
   "metadata": {},
   "outputs": [
    {
     "name": "stdout",
     "output_type": "stream",
     "text": [
      "Sonnet 99 is not 14 lines, skipping\n",
      "Sonnet 126 is not 14 lines, skipping\n",
      "Training epoch 2 of 2.\n"
     ]
    }
   ],
   "source": [
    "hmm = Sonnet_HMM(N_state=10, N_iters=2)"
   ]
  },
  {
   "cell_type": "code",
   "execution_count": 3,
   "metadata": {},
   "outputs": [],
   "source": [
    "# line_quantized, line = hmm.generate_line_with_end(end_with=hmm._rhyme_dictionary.keys())\n",
    "# print(line)"
   ]
  },
  {
   "cell_type": "code",
   "execution_count": 4,
   "metadata": {},
   "outputs": [
    {
     "name": "stdout",
     "output_type": "stream",
     "text": [
      "To holds have mother's but thee love can quick,\n",
      "Root little still blind will thy hungry a,\n",
      "Great such which frantic-mad though my wait which,\n",
      "Do delight thee he the they but a thy:\n",
      "And if heaven if bare thy there these thy grief's,\n",
      "Old prophetic eye and decree as might,\n",
      "Most thy death eye this they strangle not and,\n",
      "Thou sad going wilt to the heart under:\n",
      "Care buried into am well their by to,\n",
      "Cheered said you of poor face palate like false,\n",
      "Love's and hand love directed he for two,\n",
      "Behind whose no my we am time's beauteous:\n",
      "  Old for hath hide hung so of eyes that done,\n",
      "  Who to niggard and course borne living glory.\n"
     ]
    }
   ],
   "source": [
    "sonnet, sonnet_string = hmm.generate_sonnet()\n",
    "print(sonnet_string)"
   ]
  }
 ],
 "metadata": {
  "kernelspec": {
   "display_name": "Python 3",
   "language": "python",
   "name": "python3"
  },
  "language_info": {
   "codemirror_mode": {
    "name": "ipython",
    "version": 3
   },
   "file_extension": ".py",
   "mimetype": "text/x-python",
   "name": "python",
   "nbconvert_exporter": "python",
   "pygments_lexer": "ipython3",
   "version": "3.6.3"
  }
 },
 "nbformat": 4,
 "nbformat_minor": 2
}
