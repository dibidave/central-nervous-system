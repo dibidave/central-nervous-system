{
 "cells": [
  {
   "cell_type": "code",
   "execution_count": 1,
   "metadata": {},
   "outputs": [],
   "source": [
    "from Sonnet_Set import *\n",
    "from HMM_JL import HiddenMarkovModel as HMM\n",
    "import itertools"
   ]
  },
  {
   "cell_type": "code",
   "execution_count": 2,
   "metadata": {},
   "outputs": [
    {
     "name": "stdout",
     "output_type": "stream",
     "text": [
      "Sonnet 99 is not 14 lines, skipping\n",
      "Sonnet 126 is not 14 lines, skipping\n"
     ]
    }
   ],
   "source": [
    "sonnet_set = Sonnet_Set(\"data/shakespeare.txt\")\n",
    "sonnet_sequences = sonnet_set.get_sequences(Sequence_Type.LINE, Element_Type.WORD)\n",
    "sonnet_lines = list(itertools.chain(*sonnet_sequences))"
   ]
  },
  {
   "cell_type": "code",
   "execution_count": 3,
   "metadata": {},
   "outputs": [],
   "source": [
    "D = len(sonnet_set._word_list)-2\n",
    "hmm1 = HMM(L=4, D=D, train=False)\n",
    "hmm2 = HMM(L=8, D=D, train=False)\n",
    "hmm3 = HMM(L=16, D=D, train=False)\n",
    "hmm4 = HMM(L=32, D=D, train=False)"
   ]
  },
  {
   "cell_type": "code",
   "execution_count": 7,
   "metadata": {},
   "outputs": [
    {
     "name": "stdout",
     "output_type": "stream",
     "text": [
      "Training epoch 99 of 100: current log probability = -1.0738e+05\n"
     ]
    }
   ],
   "source": [
    "probs = hmm2.unsupervised_learning(sonnet_lines, verbose=True)"
   ]
  },
  {
   "cell_type": "code",
   "execution_count": 9,
   "metadata": {},
   "outputs": [
    {
     "data": {
      "text/plain": [
       "3450"
      ]
     },
     "execution_count": 9,
     "metadata": {},
     "output_type": "execute_result"
    }
   ],
   "source": [
    "sonnet_set._word_dictionary[\"art's\"]"
   ]
  }
 ],
 "metadata": {
  "kernelspec": {
   "display_name": "Python 3",
   "language": "python",
   "name": "python3"
  },
  "language_info": {
   "codemirror_mode": {
    "name": "ipython",
    "version": 3
   },
   "file_extension": ".py",
   "mimetype": "text/x-python",
   "name": "python",
   "nbconvert_exporter": "python",
   "pygments_lexer": "ipython3",
   "version": "3.6.3"
  }
 },
 "nbformat": 4,
 "nbformat_minor": 2
}
