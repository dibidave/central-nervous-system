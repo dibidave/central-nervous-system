{
 "cells": [
  {
   "cell_type": "code",
   "execution_count": 1,
   "metadata": {},
   "outputs": [],
   "source": [
    "from Sonnet_HMM import *"
   ]
  },
  {
   "cell_type": "code",
   "execution_count": 2,
   "metadata": {},
   "outputs": [
    {
     "name": "stdout",
     "output_type": "stream",
     "text": [
      "Sonnet 99 is not 14 lines, skipping\n",
      "Sonnet 126 is not 14 lines, skipping\n",
      "Training start: initial log probability = -1.3915e+05\n",
      "Training epoch 20 of 20: current log probability = -1.0346e+05\n"
     ]
    }
   ],
   "source": [
    "hmm = Sonnet_HMM(N_state=20, train=False)\n",
    "probs = hmm.unsupervised_learning(verbose=True, N_iters=20)"
   ]
  },
  {
   "cell_type": "code",
   "execution_count": 3,
   "metadata": {},
   "outputs": [
    {
     "name": "stdout",
     "output_type": "stream",
     "text": [
      "Thou and thou their glory idolatry,\n",
      "As effectually canst eternity,\n",
      "But shun my his is not melancholy,\n",
      "Bitterness case sense tell lofty thereby:\n",
      "He on grounded distilled remembered,\n",
      "I upon and one bright society,\n",
      "Nothing at breath it one astonished,\n",
      "My lie blesses can of impiety:\n",
      "Statute on won hide lie idolatry,\n",
      "Since at a rage more sweet remembered,\n",
      "Me a when do is that melancholy,\n",
      "Like dost in hand graven astonished:\n",
      "  To my you what interest simplicity,\n",
      "  Shall jump seem now than debt authority.\n",
      "\n",
      "More as thrust hate boat lives intelligence,\n",
      "On gifts live will fears desired confound,\n",
      "Shouldst a time's self child of eye my offence,\n",
      "So and lose other not she yet crowned:\n",
      "Do this added to-day astonished,\n",
      "Star yet love that thy burn iniquity,\n",
      "Which eyes marble to grace remembered,\n",
      "And not hand longing of antiquity:\n",
      "You twice show breathes eye watery forsaken,\n",
      "Whom me thine is a makes accumulate,\n",
      "Time's of his stay gracious thy paying shaken,\n",
      "The if make year of mine kind ruinate:\n",
      "  I see expiate watery enmity,\n",
      "  Praising been young the and posterity.\n",
      "\n",
      "Whate'er my one be times antiquity,\n",
      "Ills the love effect hurt eternity,\n",
      "Checked her and plea write save iniquity,\n",
      "Your lives that they slave his thoughts fortify:\n",
      "In wound whilst to seemly melancholy,\n",
      "Thy dull partake prepare impiety,\n",
      "In another it a idolatry,\n",
      "And do keen rebuked same society:\n",
      "Vainly kind devour of determinate,\n",
      "And i than summer's heat authority,\n",
      "Wilt to something anew time estimate,\n",
      "Must with all and and the simplicity:\n",
      "  Grace parts frame yours since the iniquity,\n",
      "  Scorn bending bending prove antiquity.\n",
      "\n"
     ]
    }
   ],
   "source": [
    "for i in range(3):\n",
    "    sonnet, sonnet_string = hmm.generate_sonnet()\n",
    "    print(sonnet_string)\n",
    "    print()"
   ]
  },
  {
   "cell_type": "code",
   "execution_count": 4,
   "metadata": {},
   "outputs": [
    {
     "name": "stdout",
     "output_type": "stream",
     "text": [
      "Ruined am not an vermilion head stay,\n",
      "Or return salve my my are tells quiet,\n",
      "Let that my antiquity foe let ill,\n",
      "As presume look of you gain fast my in:\n",
      "In how weep and kingdom hang death are i,\n",
      "For nor loathsome from thou a pride and that,\n",
      "Now or by then though come immortal that,\n",
      "Drawn your spread made under come pays shape one:\n",
      "Then that that so one know'st my song to nothing,\n",
      "Ills of art do once and intermixed were,\n",
      "To speak use beauty bloody of love have,\n",
      "Thus mourning astonished add desire:\n",
      "  Even i the wouldst praise were of fair possessed,\n",
      "  Which far persuade night o'erworn thou the kept.\n",
      "\n",
      "Upon yet in in temptation on knows,\n",
      "Richer when gracious thy on thee false long,\n",
      "Are to thou live whose yet inconstant to,\n",
      "Pyramids and love surly leaves on of:\n",
      "If shalt register look betray false large,\n",
      "That happy fair write approve keep thy black,\n",
      "They wilt that bright bad supposed view make,\n",
      "Augurs bankrupt sin wish tell thee swears best:\n",
      "Bare process double find hath eyes might tear,\n",
      "Look guess thou these his to ride fair thou few,\n",
      "For may better my be night than more with,\n",
      "So the that worth their wonder weed threw dwell:\n",
      "  And well foot assemble heart riper thought,\n",
      "  With set love impiety self dost view.\n",
      "\n",
      "Lest thy more jealous all doth give thy can,\n",
      "To thy take robe a their in wail be with,\n",
      "But prevent'st honouring all in thy up,\n",
      "O'er partly in and summer my fair through:\n",
      "And by so so with beauty's that is the,\n",
      "Like fault cannot tomb trust enough this to,\n",
      "To my slander true thy cannot west spite,\n",
      "Wise me art beauty's it gain thy of dross:\n",
      "To and thou thought and my judgment faint hold,\n",
      "Like with so now minds therefore no thou is,\n",
      "Thou alters vision then skill book lies shown,\n",
      "Heat ay and of compile make repent sweet:\n",
      "  Can his give winter friend i those your me,\n",
      "  No thou art doth mine thy fair past own gone.\n",
      "\n"
     ]
    }
   ],
   "source": [
    "for i in range(3):\n",
    "    sonnet, sonnet_string = hmm.generate_sonnet(rhyme=False)\n",
    "    print(sonnet_string)\n",
    "    print()"
   ]
  }
 ],
 "metadata": {
  "kernelspec": {
   "display_name": "Python 3",
   "language": "python",
   "name": "python3"
  },
  "language_info": {
   "codemirror_mode": {
    "name": "ipython",
    "version": 3
   },
   "file_extension": ".py",
   "mimetype": "text/x-python",
   "name": "python",
   "nbconvert_exporter": "python",
   "pygments_lexer": "ipython3",
   "version": "3.6.3"
  }
 },
 "nbformat": 4,
 "nbformat_minor": 2
}
