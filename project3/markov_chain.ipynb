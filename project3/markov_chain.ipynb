{
 "cells": [
  {
   "cell_type": "code",
   "execution_count": 1,
   "metadata": {},
   "outputs": [
    {
     "name": "stdout",
     "output_type": "stream",
     "text": [
      "Sonnet 99 is not 14 lines, skipping\n",
      "Sonnet 126 is not 14 lines, skipping\n"
     ]
    }
   ],
   "source": [
    "from Sonnet_Set import Sonnet_Set\n",
    "from Sonnet_Set import Sequence_Type\n",
    "from Sonnet_Set import Element_Type\n",
    "\n",
    "sonnet_set = Sonnet_Set(\"data/shakespeare.txt\")\n"
   ]
  },
  {
   "cell_type": "code",
   "execution_count": 2,
   "metadata": {},
   "outputs": [],
   "source": [
    "sonnets = open(\"data/shakespeare.txt\")\n",
    "fulltext =  sonnets.readlines()"
   ]
  },
  {
   "cell_type": "code",
   "execution_count": 3,
   "metadata": {},
   "outputs": [],
   "source": [
    "allsonnets = \"\\n\".join(fulltext)"
   ]
  },
  {
   "cell_type": "code",
   "execution_count": 14,
   "metadata": {},
   "outputs": [
    {
     "name": "stdout",
     "output_type": "stream",
     "text": [
      "Not marble nor the gilded monuments,\n",
      "Of princes shall outlive this powerful rhyme,\n",
      "But you shall shine more bright in these contents,\n",
      "Than unswept stone besmeared with sluttish time:\n",
      "But since he died and poets better prove,\n",
      "Theirs for their style i'll read his for his love,\n",
      "Now stand you on the top of happy hours,\n",
      "And many maiden gardens yet unset:\n",
      "With virtuous wish would bear you living flowers,\n",
      "Much liker than your painted counterfeit,\n",
      "So thou thy self out-going in thy noon,\n",
      "Unlooked on diest unless thou get a son:\n",
      ".\n"
     ]
    },
    {
     "data": {
      "text/plain": [
       "\"Not marble nor the gilded monuments,\\nOf princes shall outlive this powerful rhyme,\\nBut you shall shine more bright in these contents,\\nThan unswept stone besmeared with sluttish time:\\nBut since he died and poets better prove,\\nTheirs for their style i'll read his for his love,\\nNow stand you on the top of happy hours,\\nAnd many maiden gardens yet unset:\\nWith virtuous wish would bear you living flowers,\\nMuch liker than your painted counterfeit,\\nSo thou thy self out-going in thy noon,\\nUnlooked on diest unless thou get a son:\\n.\""
      ]
     },
     "execution_count": 14,
     "metadata": {},
     "output_type": "execute_result"
    }
   ],
   "source": [
    "from chained import Chain\n",
    "\n",
    "text = \"I sent my representatives a form letter, and all I got back was a form letter. Should I be upset?\"\n",
    "\n",
    "\n",
    "mychain = Chain(3)             # create an empty third order chain \"mychain\"\n",
    "\n",
    "sonnet_sequences = sonnet_set.get_sequences(sequence_type=Sequence_Type.SONNET)\n",
    "\n",
    "for sonnet in sonnet_sequences:\n",
    "    mychain.addSequence(sonnet)      # mychain will index characters in this string\n",
    "\n",
    "seq = mychain.getSequence()    # seq is now a list of characters generated from mychain\n",
    "sonnet_set.print_sonnet(seq)\n",
    "#print(quack)"
   ]
  },
  {
   "cell_type": "code",
   "execution_count": null,
   "metadata": {},
   "outputs": [],
   "source": []
  },
  {
   "cell_type": "code",
   "execution_count": null,
   "metadata": {},
   "outputs": [],
   "source": []
  }
 ],
 "metadata": {
  "kernelspec": {
   "display_name": "Python 3",
   "language": "python",
   "name": "python3"
  },
  "language_info": {
   "codemirror_mode": {
    "name": "ipython",
    "version": 3
   },
   "file_extension": ".py",
   "mimetype": "text/x-python",
   "name": "python",
   "nbconvert_exporter": "python",
   "pygments_lexer": "ipython3",
   "version": "3.6.3"
  }
 },
 "nbformat": 4,
 "nbformat_minor": 2
}
