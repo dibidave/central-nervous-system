{
 "cells": [
  {
   "cell_type": "code",
   "execution_count": 1,
   "metadata": {},
   "outputs": [],
   "source": [
    "from Sonnet_Set import Sonnet_Set\n",
    "from Sonnet_Set import Sequence_Type\n",
    "from Sonnet_Set import Element_Type"
   ]
  },
  {
   "cell_type": "code",
   "execution_count": 2,
   "metadata": {},
   "outputs": [
    {
     "name": "stdout",
     "output_type": "stream",
     "text": [
      "Sonnet 99 is not 14 lines, skipping\n",
      "Sonnet 126 is not 14 lines, skipping\n"
     ]
    }
   ],
   "source": [
    "sonnet_set = Sonnet_Set(\"data/shakespeare.txt\")"
   ]
  },
  {
   "cell_type": "code",
   "execution_count": 3,
   "metadata": {},
   "outputs": [],
   "source": [
    "# Get sonnets converted into sequences of words, with special characters for new lines and stanza breaks\n",
    "sonnet_sequences = sonnet_set.get_sequences()"
   ]
  },
  {
   "cell_type": "code",
   "execution_count": 4,
   "metadata": {},
   "outputs": [
    {
     "name": "stdout",
     "output_type": "stream",
     "text": [
      "[0, 1, 2, 3, 4, 5, 3158, 6, 7, 8, 9, 10, 11, 12, 3158, 13, 14, 15, 16, 17, 18, 19, 20, 3158, 21, 22, 23, 10, 24, 21, 25, 3158, 3159, 13, 26, 27, 28, 29, 30, 31, 32, 3158, 33, 34, 35, 36, 37, 38, 39, 3158, 40, 41, 42, 43, 44, 45, 3158, 34, 46, 34, 47, 28, 34, 48, 46, 49, 50, 3158, 3159, 26, 6, 51, 52, 15, 53, 54, 55, 3158, 56, 57, 58, 28, 15, 59, 60, 3158, 61, 29, 30, 62, 63, 34, 64, 3158, 56, 22, 65, 66, 67, 68, 69, 3158, 3159, 70, 15, 71, 72, 73, 74, 75, 76, 3158, 28, 77, 15, 53, 78, 18, 15, 79, 56, 80, 3158, 3159]\n"
     ]
    }
   ],
   "source": [
    "print(sonnet_sequences[0])"
   ]
  },
  {
   "cell_type": "code",
   "execution_count": 5,
   "metadata": {},
   "outputs": [
    {
     "name": "stdout",
     "output_type": "stream",
     "text": [
      "From fairest creatures we desire increase,\n",
      "That thereby beauty's rose might never die,\n",
      "But as the riper should by time decease,\n",
      "His tender heir might bear his memory:\n",
      "But thou contracted to thine own bright eyes,\n",
      "Feed'st thy light's flame with self-substantial fuel,\n",
      "Making a famine where abundance lies,\n",
      "Thy self thy foe to thy sweet self too cruel:\n",
      "Thou that art now the world's fresh ornament,\n",
      "And only herald to the gaudy spring,\n",
      "Within thine own bud buriest thy content,\n",
      "And tender churl mak'st waste in niggarding:\n",
      "  Pity the world or else this glutton be,\n",
      "  To eat the world's due by the grave and thee.\n"
     ]
    },
    {
     "data": {
      "text/plain": [
       "\"From fairest creatures we desire increase,\\nThat thereby beauty's rose might never die,\\nBut as the riper should by time decease,\\nHis tender heir might bear his memory:\\nBut thou contracted to thine own bright eyes,\\nFeed'st thy light's flame with self-substantial fuel,\\nMaking a famine where abundance lies,\\nThy self thy foe to thy sweet self too cruel:\\nThou that art now the world's fresh ornament,\\nAnd only herald to the gaudy spring,\\nWithin thine own bud buriest thy content,\\nAnd tender churl mak'st waste in niggarding:\\n  Pity the world or else this glutton be,\\n  To eat the world's due by the grave and thee.\""
      ]
     },
     "execution_count": 5,
     "metadata": {},
     "output_type": "execute_result"
    }
   ],
   "source": [
    "sonnet_set.print_sonnet(sonnet_sequences[0])"
   ]
  },
  {
   "cell_type": "code",
   "execution_count": 6,
   "metadata": {},
   "outputs": [
    {
     "name": "stdout",
     "output_type": "stream",
     "text": [
      "[[0, 1, 2, 3, 4, 5, 3158, 13, 14, 15, 16, 17, 18, 19, 20], [6, 7, 8, 9, 10, 11, 12, 3158, 21, 22, 23, 10, 24, 21, 25], [13, 26, 27, 28, 29, 30, 31, 32, 3158, 40, 41, 42, 43, 44, 45], [33, 34, 35, 36, 37, 38, 39, 3158, 34, 46, 34, 47, 28, 34, 48, 46, 49, 50], [26, 6, 51, 52, 15, 53, 54, 55, 3158, 61, 29, 30, 62, 63, 34, 64], [56, 57, 58, 28, 15, 59, 60, 3158, 56, 22, 65, 66, 67, 68, 69], [70, 15, 71, 72, 73, 74, 75, 76, 3158, 28, 77, 15, 53, 78, 18, 15, 79, 56, 80]]\n"
     ]
    }
   ],
   "source": [
    "# Get sonnets converted into pairs of lines that rhyme, with special characters for new lines\n",
    "sonnet_sequences = sonnet_set.get_sequences(sequence_type=Sequence_Type.RHYMING_PAIR)\n",
    "print(sonnet_sequences[0])"
   ]
  },
  {
   "cell_type": "code",
   "execution_count": 7,
   "metadata": {},
   "outputs": [
    {
     "name": "stdout",
     "output_type": "stream",
     "text": [
      "[[0, 1, 2, 3, 4, 5, 3158, 13, 14, 15, 16, 17, 18, 19, 20], [6, 7, 8, 9, 10, 11, 12, 3158, 21, 22, 23, 10, 24, 21, 25], [13, 26, 27, 28, 29, 30, 31, 32, 3158, 40, 41, 42, 43, 44, 45], [33, 34, 35, 36, 37, 38, 39, 3158, 34, 46, 34, 47, 28, 34, 48, 46, 49, 50], [26, 6, 51, 52, 15, 53, 54, 55, 3158, 61, 29, 30, 62, 63, 34, 64], [56, 57, 58, 28, 15, 59, 60, 3158, 56, 22, 65, 66, 67, 68, 69], [70, 15, 71, 72, 73, 74, 75, 76, 3158, 28, 77, 15, 53, 78, 18, 15, 79, 56, 80]]\n",
      "Converts to...\n",
      "From fairest creatures we desire increase,\n",
      "That thereby beauty's rose might never die,\n",
      "But as the riper should by time decease,\n",
      "His tender heir might bear his memory:\n",
      "But thou contracted to thine own bright eyes,\n",
      "Feed'st thy light's flame with self-substantial fuel,\n",
      "Making a famine where abundance lies,\n",
      "Thy self thy foe to thy sweet self too cruel:\n",
      "Thou that art now the world's fresh ornament,\n",
      "And only herald to the gaudy spring,\n",
      "Within thine own bud buriest thy content,\n",
      "And tender churl mak'st waste in niggarding:\n",
      "  Pity the world or else this glutton be,\n",
      "  To eat the world's due by the grave and thee.\n"
     ]
    },
    {
     "data": {
      "text/plain": [
       "\"From fairest creatures we desire increase,\\nThat thereby beauty's rose might never die,\\nBut as the riper should by time decease,\\nHis tender heir might bear his memory:\\nBut thou contracted to thine own bright eyes,\\nFeed'st thy light's flame with self-substantial fuel,\\nMaking a famine where abundance lies,\\nThy self thy foe to thy sweet self too cruel:\\nThou that art now the world's fresh ornament,\\nAnd only herald to the gaudy spring,\\nWithin thine own bud buriest thy content,\\nAnd tender churl mak'st waste in niggarding:\\n  Pity the world or else this glutton be,\\n  To eat the world's due by the grave and thee.\""
      ]
     },
     "execution_count": 7,
     "metadata": {},
     "output_type": "execute_result"
    }
   ],
   "source": [
    "sonnet_set.print_sonnet(sonnet_sequences[0], sequence_type=Sequence_Type.RHYMING_PAIR)"
   ]
  },
  {
   "cell_type": "code",
   "execution_count": 8,
   "metadata": {},
   "outputs": [],
   "source": [
    "sonnet_sequences = sonnet_set.get_sequences(sequence_type=Sequence_Type.LINE)"
   ]
  },
  {
   "cell_type": "code",
   "execution_count": 9,
   "metadata": {},
   "outputs": [
    {
     "name": "stdout",
     "output_type": "stream",
     "text": [
      "[[0, 1, 2, 3, 4, 5], [6, 7, 8, 9, 10, 11, 12], [13, 14, 15, 16, 17, 18, 19, 20], [21, 22, 23, 10, 24, 21, 25], [13, 26, 27, 28, 29, 30, 31, 32], [33, 34, 35, 36, 37, 38, 39], [40, 41, 42, 43, 44, 45], [34, 46, 34, 47, 28, 34, 48, 46, 49, 50], [26, 6, 51, 52, 15, 53, 54, 55], [56, 57, 58, 28, 15, 59, 60], [61, 29, 30, 62, 63, 34, 64], [56, 22, 65, 66, 67, 68, 69], [70, 15, 71, 72, 73, 74, 75, 76], [28, 77, 15, 53, 78, 18, 15, 79, 56, 80]]\n"
     ]
    }
   ],
   "source": [
    "print(sonnet_sequences[0])"
   ]
  },
  {
   "cell_type": "code",
   "execution_count": 10,
   "metadata": {},
   "outputs": [
    {
     "name": "stdout",
     "output_type": "stream",
     "text": [
      "From fairest creatures we desire increase,\n",
      "That thereby beauty's rose might never die,\n",
      "But as the riper should by time decease,\n",
      "His tender heir might bear his memory:\n",
      "But thou contracted to thine own bright eyes,\n",
      "Feed'st thy light's flame with self-substantial fuel,\n",
      "Making a famine where abundance lies,\n",
      "Thy self thy foe to thy sweet self too cruel:\n",
      "Thou that art now the world's fresh ornament,\n",
      "And only herald to the gaudy spring,\n",
      "Within thine own bud buriest thy content,\n",
      "And tender churl mak'st waste in niggarding:\n",
      "  Pity the world or else this glutton be,\n",
      "  To eat the world's due by the grave and thee.\n"
     ]
    },
    {
     "data": {
      "text/plain": [
       "\"From fairest creatures we desire increase,\\nThat thereby beauty's rose might never die,\\nBut as the riper should by time decease,\\nHis tender heir might bear his memory:\\nBut thou contracted to thine own bright eyes,\\nFeed'st thy light's flame with self-substantial fuel,\\nMaking a famine where abundance lies,\\nThy self thy foe to thy sweet self too cruel:\\nThou that art now the world's fresh ornament,\\nAnd only herald to the gaudy spring,\\nWithin thine own bud buriest thy content,\\nAnd tender churl mak'st waste in niggarding:\\n  Pity the world or else this glutton be,\\n  To eat the world's due by the grave and thee.\""
      ]
     },
     "execution_count": 10,
     "metadata": {},
     "output_type": "execute_result"
    }
   ],
   "source": [
    "sonnet_set.print_sonnet(sonnet_sequences[0], sequence_type=Sequence_Type.LINE)"
   ]
  },
  {
   "cell_type": "code",
   "execution_count": 15,
   "metadata": {},
   "outputs": [
    {
     "name": "stdout",
     "output_type": "stream",
     "text": [
      "[7, 14, 4, 21, 21, 30, 5, 30, 9, 2, 3, 20, 4, 1, 6, 30, 8, 14, 6, 6, 30, 8, 2, 30, 4, 30, 7, 10, 3, 3, 6, 1, 17, 7, 30, 12, 4, 16, 28]\n"
     ]
    }
   ],
   "source": [
    "print(sonnet_set.convert_string_to_indices(\"shall i compare thee to a summer's day\\n\"))"
   ]
  },
  {
   "cell_type": "code",
   "execution_count": null,
   "metadata": {},
   "outputs": [],
   "source": []
  }
 ],
 "metadata": {
  "kernelspec": {
   "display_name": "Python 3",
   "language": "python",
   "name": "python3"
  },
  "language_info": {
   "codemirror_mode": {
    "name": "ipython",
    "version": 3
   },
   "file_extension": ".py",
   "mimetype": "text/x-python",
   "name": "python",
   "nbconvert_exporter": "python",
   "pygments_lexer": "ipython3",
   "version": "3.6.3"
  }
 },
 "nbformat": 4,
 "nbformat_minor": 2
}
