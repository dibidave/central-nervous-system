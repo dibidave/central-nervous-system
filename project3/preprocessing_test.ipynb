{
 "cells": [
  {
   "cell_type": "code",
   "execution_count": 1,
   "metadata": {},
   "outputs": [],
   "source": [
    "from Sonnet_Set import Sonnet_Set\n",
    "from Sonnet_Set import Sequence_Type\n",
    "from Sonnet_Set import Element_Type"
   ]
  },
  {
   "cell_type": "code",
   "execution_count": 2,
   "metadata": {},
   "outputs": [
    {
     "name": "stdout",
     "output_type": "stream",
     "text": [
      "Sonnet 99 is not 14 lines, skipping\n",
      "Sonnet 126 is not 14 lines, skipping\n"
     ]
    }
   ],
   "source": [
    "sonnet_set = Sonnet_Set(\"data/shakespeare.txt\")"
   ]
  },
  {
   "cell_type": "code",
   "execution_count": 3,
   "metadata": {},
   "outputs": [],
   "source": [
    "# Get sonnets converted into sequences of words, with special characters for new lines and stanza breaks\n",
    "sonnet_sequences = sonnet_set.get_sequences()"
   ]
  },
  {
   "cell_type": "code",
   "execution_count": 4,
   "metadata": {},
   "outputs": [
    {
     "name": "stdout",
     "output_type": "stream",
     "text": [
      "[0, 1, 2, 3, 4, 5, 4500, 6, 7, 8, 9, 10, 11, 12, 4500, 13, 14, 15, 16, 17, 18, 19, 20, 4500, 21, 22, 23, 10, 24, 25, 26, 4500, 4501, 13, 27, 28, 29, 30, 31, 32, 33, 4500, 34, 35, 36, 37, 38, 39, 40, 4500, 41, 42, 43, 44, 45, 46, 4500, 47, 48, 35, 49, 29, 35, 50, 48, 51, 52, 4500, 4501, 53, 54, 55, 56, 15, 57, 58, 59, 4500, 60, 61, 62, 29, 15, 63, 64, 4500, 65, 30, 31, 66, 67, 35, 68, 4500, 60, 22, 69, 70, 71, 72, 73, 4500, 4501, 74, 15, 75, 76, 77, 78, 79, 80, 4500, 81, 82, 15, 57, 83, 18, 15, 84, 85, 86, 4500, 4501]\n"
     ]
    }
   ],
   "source": [
    "print(sonnet_sequences[0])"
   ]
  },
  {
   "cell_type": "code",
   "execution_count": 5,
   "metadata": {},
   "outputs": [
    {
     "name": "stdout",
     "output_type": "stream",
     "text": [
      "From fairest creatures we desire increase, \n",
      "That thereby beauty's rose might never die, \n",
      "But as the riper should by time decease, \n",
      "His tender heir might bear his memory: \n",
      "But thou contracted to thine own bright eyes, \n",
      "Feed'st thy light's flame with self-substantial fuel, \n",
      "Making a famine where abundance lies, \n",
      "Thy self thy foe, to thy sweet self too cruel: \n",
      "Thou that art now the world's fresh ornament, \n",
      "And only herald to the gaudy spring, \n",
      "Within thine own bud buriest thy content, \n",
      "And tender churl mak'st waste in niggarding: \n",
      "Pity the world, or else this glutton be, \n",
      "To eat the world's due, by the grave and thee. \n",
      "\n"
     ]
    }
   ],
   "source": [
    "sonnet_set.print_sonnet(sonnet_sequences[0])"
   ]
  },
  {
   "cell_type": "code",
   "execution_count": 6,
   "metadata": {},
   "outputs": [
    {
     "name": "stdout",
     "output_type": "stream",
     "text": [
      "[[0, 1, 2, 3, 4, 5, 4500, 13, 14, 15, 16, 17, 18, 19, 20], [6, 7, 8, 9, 10, 11, 12, 4500, 21, 22, 23, 10, 24, 25, 26], [13, 27, 28, 29, 30, 31, 32, 33, 4500, 41, 42, 43, 44, 45, 46], [34, 35, 36, 37, 38, 39, 40, 4500, 47, 48, 35, 49, 29, 35, 50, 48, 51, 52], [53, 54, 55, 56, 15, 57, 58, 59, 4500, 65, 30, 31, 66, 67, 35, 68], [60, 61, 62, 29, 15, 63, 64, 4500, 60, 22, 69, 70, 71, 72, 73], [74, 15, 75, 76, 77, 78, 79, 80, 4500, 81, 82, 15, 57, 83, 18, 15, 84, 85, 86]]\n"
     ]
    }
   ],
   "source": [
    "# Get sonnets converted into pairs of lines that rhyme, with special characters for new lines\n",
    "sonnet_sequences = sonnet_set.get_sequences(sequence_type=Sequence_Type.RHYMING_PAIR)\n",
    "print(sonnet_sequences[0])"
   ]
  },
  {
   "cell_type": "code",
   "execution_count": 7,
   "metadata": {},
   "outputs": [
    {
     "name": "stdout",
     "output_type": "stream",
     "text": [
      "[0, 1, 2, 3, 4, 5, 4500, 13, 14, 15, 16, 17, 18, 19, 20]\n",
      "[6, 7, 8, 9, 10, 11, 12, 4500, 21, 22, 23, 10, 24, 25, 26]\n",
      "[13, 27, 28, 29, 30, 31, 32, 33, 4500, 41, 42, 43, 44, 45, 46]\n",
      "[34, 35, 36, 37, 38, 39, 40, 4500, 47, 48, 35, 49, 29, 35, 50, 48, 51, 52]\n",
      "[53, 54, 55, 56, 15, 57, 58, 59, 4500, 65, 30, 31, 66, 67, 35, 68]\n",
      "[60, 61, 62, 29, 15, 63, 64, 4500, 60, 22, 69, 70, 71, 72, 73]\n",
      "[74, 15, 75, 76, 77, 78, 79, 80, 4500, 81, 82, 15, 57, 83, 18, 15, 84, 85, 86]\n",
      "From fairest creatures we desire increase,\n",
      "That thereby beauty's rose might never die,\n",
      "But as the riper should by time decease,\n",
      "His tender heir might bear his memory:\n",
      "But thou contracted to thine own bright eyes,\n",
      "Feed'st thy light's flame with self-substantial fuel,\n",
      "Making a famine where abundance lies,\n",
      "Thy self thy foe, to thy sweet self too cruel:\n",
      "Thou that art now the world's fresh ornament,\n",
      "And only herald to the gaudy spring,\n",
      "Within thine own bud buriest thy content,\n",
      "And tender churl mak'st waste in niggarding:\n",
      "Pity the world, or else this glutton be,\n",
      "To eat the world's due, by the grave and thee.\n"
     ]
    }
   ],
   "source": [
    "sonnet_set.print_sonnet(sonnet_sequences[0], sequence_type=Sequence_Type.RHYMING_PAIR)"
   ]
  },
  {
   "cell_type": "code",
   "execution_count": null,
   "metadata": {},
   "outputs": [],
   "source": []
  }
 ],
 "metadata": {
  "kernelspec": {
   "display_name": "Python 3",
   "language": "python",
   "name": "python3"
  },
  "language_info": {
   "codemirror_mode": {
    "name": "ipython",
    "version": 3
   },
   "file_extension": ".py",
   "mimetype": "text/x-python",
   "name": "python",
   "nbconvert_exporter": "python",
   "pygments_lexer": "ipython3",
   "version": "3.6.3"
  }
 },
 "nbformat": 4,
 "nbformat_minor": 2
}
