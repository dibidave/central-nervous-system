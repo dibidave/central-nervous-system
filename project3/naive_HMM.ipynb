{
 "cells": [
  {
   "cell_type": "code",
   "execution_count": 1,
   "metadata": {},
   "outputs": [],
   "source": [
    "from Sonnet_Set import Sonnet_Set\n",
    "from Sonnet_Set import Sequence_Type\n",
    "from Sonnet_Set import Element_Type\n",
    "from HMM import unsupervised_HMM\n",
    "import itertools"
   ]
  },
  {
   "cell_type": "code",
   "execution_count": 2,
   "metadata": {},
   "outputs": [
    {
     "name": "stdout",
     "output_type": "stream",
     "text": [
      "Sonnet 99 is not 14 lines, skipping\n",
      "Sonnet 126 is not 14 lines, skipping\n"
     ]
    }
   ],
   "source": [
    "sonnet_set = Sonnet_Set(\"data/shakespeare.txt\")"
   ]
  },
  {
   "cell_type": "code",
   "execution_count": 3,
   "metadata": {},
   "outputs": [],
   "source": [
    "sonnet_sequences = sonnet_set.get_sequences(sequence_type=Sequence_Type.LINE)\n",
    "sonnet_lines = list(itertools.chain.from_iterable(sonnet_sequences))"
   ]
  },
  {
   "cell_type": "code",
   "execution_count": 4,
   "metadata": {},
   "outputs": [],
   "source": [
    "model = unsupervised_HMM(sonnet_lines, n_states=10, N_iters=1)"
   ]
  },
  {
   "cell_type": "code",
   "execution_count": 5,
   "metadata": {},
   "outputs": [
    {
     "name": "stdout",
     "output_type": "stream",
     "text": [
      "[ 9  9  9  8  8  9  6  7  8 10  6  8  7  8]\n"
     ]
    }
   ],
   "source": [
    "sonnet_lines = sonnet_set.get_sequences(sequence_type=Sequence_Type.LINE)\n",
    "sonnet_line_lengths = [len(x) for x in itertools.chain.from_iterable(sonnet_lines)]\n",
    "unique_lengths = set(sonnet_line_lengths)\n",
    "sonnet_length_counts = {}\n",
    "for sonnet_line_length in sonnet_line_lengths:\n",
    "    if sonnet_line_length not in sonnet_length_counts:\n",
    "        sonnet_length_counts[sonnet_line_length] = 0\n",
    "    sonnet_length_counts[sonnet_line_length] += 1\n",
    "    \n",
    "sonnet_line_lengths = list(sorted(unique_lengths))\n",
    "sonnet_line_length_weights = []\n",
    "for sonnet_line_length in sonnet_line_lengths:\n",
    "    sonnet_line_length_weights.append(sonnet_length_counts[sonnet_line_length])\n",
    "\n",
    "num_lines = sum(sonnet_line_length_weights)\n",
    "for i in range(len(sonnet_line_lengths)):\n",
    "    sonnet_line_length_weights[i] /= num_lines\n",
    "\n",
    "import numpy\n",
    "\n",
    "sonnet_line_lengths = numpy.random.choice(sonnet_line_lengths, size=14, p=sonnet_line_length_weights)\n",
    "print(sonnet_line_lengths)\n",
    "\n",
    "generated_sonnet = []\n",
    "for sonnet_line_length in sonnet_line_lengths:\n",
    "    sonnet_line, _ = model.generate_emission(sonnet_line_length)\n",
    "    generated_sonnet.append(sonnet_line)"
   ]
  },
  {
   "cell_type": "code",
   "execution_count": 6,
   "metadata": {},
   "outputs": [
    {
     "name": "stdout",
     "output_type": "stream",
     "text": [
      "Possessed now night growth lov'st and am false thou,\n",
      "Your ah and be cure from or time wound,\n",
      "Gate as with to pleasure crowned oft it and,\n",
      "The this me not another who now constant:\n",
      "Crime living thou against as art me birth,\n",
      "Remote like rhyme within that have place makes addition,\n",
      "My faith a to and in,\n",
      "As might all in who bright i:\n",
      "Touched besiege that would fist beloved was the,\n",
      "A hast out two her lack morrow a for free,\n",
      "Be kind frailties when hours golden,\n",
      "This seem i in when things have that:\n",
      "  My should the absence then than injury,\n",
      "  Harsh why to thee your alone cannot summer.\n"
     ]
    },
    {
     "data": {
      "text/plain": [
       "\"Possessed now night growth lov'st and am false thou,\\nYour ah and be cure from or time wound,\\nGate as with to pleasure crowned oft it and,\\nThe this me not another who now constant:\\nCrime living thou against as art me birth,\\nRemote like rhyme within that have place makes addition,\\nMy faith a to and in,\\nAs might all in who bright i:\\nTouched besiege that would fist beloved was the,\\nA hast out two her lack morrow a for free,\\nBe kind frailties when hours golden,\\nThis seem i in when things have that:\\n  My should the absence then than injury,\\n  Harsh why to thee your alone cannot summer.\""
      ]
     },
     "execution_count": 6,
     "metadata": {},
     "output_type": "execute_result"
    }
   ],
   "source": [
    "sonnet_set.print_sonnet(generated_sonnet, sequence_type=Sequence_Type.LINE)"
   ]
  },
  {
   "cell_type": "code",
   "execution_count": 7,
   "metadata": {},
   "outputs": [],
   "source": [
    "sonnet_sequences = sonnet_set.get_sequences(sequence_type=Sequence_Type.SONNET, element_type=Element_Type.CHARACTER)"
   ]
  },
  {
   "cell_type": "code",
   "execution_count": 8,
   "metadata": {},
   "outputs": [
    {
     "name": "stdout",
     "output_type": "stream",
     "text": [
      "From fairest creatures we desire increase ,\n",
      "That thereby beauty's rose might never die ,\n",
      "But as the riper should by time decease ,\n",
      "His tender heir might bear his memory :\n",
      "But thou contracted to thine own bright eyes ,\n",
      "Feed'st thy light's flame with self-substantial fuel ,\n",
      "Making a famine where abundance lies ,\n",
      "Thy self thy foe to thy sweet self too cruel :\n",
      "Thou that art now the world's fresh ornament ,\n",
      "And only herald to the gaudy spring ,\n",
      "Within thine own bud buriest thy content ,\n",
      "And tender churl mak'st waste in niggarding :\n",
      "  Pity the world or else this glutton be ,\n",
      "  To eat the world's due by the grave and thee .\n",
      "\n"
     ]
    },
    {
     "data": {
      "text/plain": [
       "\"From fairest creatures we desire increase ,\\nThat thereby beauty's rose might never die ,\\nBut as the riper should by time decease ,\\nHis tender heir might bear his memory :\\nBut thou contracted to thine own bright eyes ,\\nFeed'st thy light's flame with self-substantial fuel ,\\nMaking a famine where abundance lies ,\\nThy self thy foe to thy sweet self too cruel :\\nThou that art now the world's fresh ornament ,\\nAnd only herald to the gaudy spring ,\\nWithin thine own bud buriest thy content ,\\nAnd tender churl mak'st waste in niggarding :\\n  Pity the world or else this glutton be ,\\n  To eat the world's due by the grave and thee .\\n\""
      ]
     },
     "execution_count": 8,
     "metadata": {},
     "output_type": "execute_result"
    }
   ],
   "source": [
    "sonnet_set.print_sonnet(sonnet_sequences[0], sequence_type=Sequence_Type.SONNET, element_type=Element_Type.CHARACTER)"
   ]
  },
  {
   "cell_type": "code",
   "execution_count": null,
   "metadata": {},
   "outputs": [],
   "source": []
  }
 ],
 "metadata": {
  "kernelspec": {
   "display_name": "Python 3",
   "language": "python",
   "name": "python3"
  },
  "language_info": {
   "codemirror_mode": {
    "name": "ipython",
    "version": 3
   },
   "file_extension": ".py",
   "mimetype": "text/x-python",
   "name": "python",
   "nbconvert_exporter": "python",
   "pygments_lexer": "ipython3",
   "version": "3.6.3"
  }
 },
 "nbformat": 4,
 "nbformat_minor": 2
}
