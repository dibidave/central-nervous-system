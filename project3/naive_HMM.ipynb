{
 "cells": [
  {
   "cell_type": "code",
   "execution_count": 1,
   "metadata": {},
   "outputs": [],
   "source": [
    "from Sonnet_Set import Sonnet_Set\n",
    "from Sonnet_Set import Sequence_Type\n",
    "from Sonnet_Set import Element_Type\n",
    "from HMM import unsupervised_HMM\n",
    "import itertools"
   ]
  },
  {
   "cell_type": "code",
   "execution_count": 2,
   "metadata": {},
   "outputs": [
    {
     "name": "stdout",
     "output_type": "stream",
     "text": [
      "Sonnet 99 is not 14 lines, skipping\n",
      "Sonnet 126 is not 14 lines, skipping\n"
     ]
    }
   ],
   "source": [
    "sonnet_set = Sonnet_Set(\"data/shakespeare.txt\")"
   ]
  },
  {
   "cell_type": "code",
   "execution_count": 3,
   "metadata": {},
   "outputs": [],
   "source": [
    "sonnet_sequences = sonnet_set.get_sequences(sequence_type=Sequence_Type.LINE)\n",
    "sonnet_lines = list(itertools.chain.from_iterable(sonnet_sequences))"
   ]
  },
  {
   "cell_type": "code",
   "execution_count": 5,
   "metadata": {},
   "outputs": [
    {
     "name": "stdout",
     "output_type": "stream",
     "text": [
      "Iteration: 10\n",
      "Iteration: 20\n"
     ]
    }
   ],
   "source": [
    "model = unsupervised_HMM(sonnet_lines, n_states=20, N_iters=20)"
   ]
  },
  {
   "cell_type": "code",
   "execution_count": 6,
   "metadata": {},
   "outputs": [
    {
     "name": "stdout",
     "output_type": "stream",
     "text": [
      "[10  9  6  5  8 10  9  8  9  9  8  7  9  7]\n"
     ]
    }
   ],
   "source": [
    "sonnet_lines = sonnet_set.get_sequences(sequence_type=Sequence_Type.LINE)\n",
    "sonnet_line_lengths = [len(x) for x in itertools.chain.from_iterable(sonnet_lines)]\n",
    "unique_lengths = set(sonnet_line_lengths)\n",
    "sonnet_length_counts = {}\n",
    "for sonnet_line_length in sonnet_line_lengths:\n",
    "    if sonnet_line_length not in sonnet_length_counts:\n",
    "        sonnet_length_counts[sonnet_line_length] = 0\n",
    "    sonnet_length_counts[sonnet_line_length] += 1\n",
    "    \n",
    "sonnet_line_lengths = list(sorted(unique_lengths))\n",
    "sonnet_line_length_weights = []\n",
    "for sonnet_line_length in sonnet_line_lengths:\n",
    "    sonnet_line_length_weights.append(sonnet_length_counts[sonnet_line_length])\n",
    "\n",
    "num_lines = sum(sonnet_line_length_weights)\n",
    "for i in range(len(sonnet_line_lengths)):\n",
    "    sonnet_line_length_weights[i] /= num_lines\n",
    "\n",
    "import numpy\n",
    "\n",
    "sonnet_line_lengths = numpy.random.choice(sonnet_line_lengths, size=14, p=sonnet_line_length_weights)\n",
    "print(sonnet_line_lengths)\n",
    "\n",
    "generated_sonnet = []\n",
    "for sonnet_line_length in sonnet_line_lengths:\n",
    "    sonnet_line, _ = model.generate_emission(sonnet_line_length)\n",
    "    generated_sonnet.append(sonnet_line)"
   ]
  },
  {
   "cell_type": "code",
   "execution_count": 7,
   "metadata": {},
   "outputs": [
    {
     "name": "stdout",
     "output_type": "stream",
     "text": [
      "love glance pattern their to cover are all strongly vouchsafe,\n",
      "lived I call doth your alters to a more,\n",
      "despising style Of my her is,\n",
      "still thee drawn hate is:\n",
      "lawful tongue poet love the that my can,\n",
      "summer's show dear abide thee whilst thou to too me,\n",
      "your bore of thy the in clouds in and,\n",
      "thy prize, in from life on stormy best:\n",
      "sorrows to Save art with love recured frailer living,\n",
      "Attending like change and self, forth oaths graces of,\n",
      "if sullen soul's he ride eyes thy for,\n",
      "When more see art thoughts leisure woo:\n",
      "world praise ears my evil of my plea bore,\n",
      "not me rich, with the wing in.\n"
     ]
    }
   ],
   "source": [
    "sonnet_set.print_sonnet(generated_sonnet, sequence_type=Sequence_Type.LINE)"
   ]
  },
  {
   "cell_type": "code",
   "execution_count": null,
   "metadata": {},
   "outputs": [],
   "source": []
  }
 ],
 "metadata": {
  "kernelspec": {
   "display_name": "Python 3",
   "language": "python",
   "name": "python3"
  },
  "language_info": {
   "codemirror_mode": {
    "name": "ipython",
    "version": 3
   },
   "file_extension": ".py",
   "mimetype": "text/x-python",
   "name": "python",
   "nbconvert_exporter": "python",
   "pygments_lexer": "ipython3",
   "version": "3.6.3"
  }
 },
 "nbformat": 4,
 "nbformat_minor": 2
}
