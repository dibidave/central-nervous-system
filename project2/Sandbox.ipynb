{
 "cells": [
  {
   "cell_type": "code",
   "execution_count": 1,
   "metadata": {
    "collapsed": true
   },
   "outputs": [],
   "source": [
    "import numpy as np"
   ]
  },
  {
   "cell_type": "code",
   "execution_count": 94,
   "metadata": {
    "collapsed": true
   },
   "outputs": [],
   "source": [
    "def get_data():\n",
    "    data = np.loadtxt(\"data/data.txt\", delimiter='\\t', dtype=np.int16)\n",
    "    return data\n",
    "\n",
    "def get_training_data():\n",
    "    data = np.loadtxt(\"data/train.txt\", delimiter='\\t', dtype=np.int16)\n",
    "    return data\n",
    "\n",
    "def get_test_data():\n",
    "    data = np.loadtxt(\"data/test.txt\", delimiter='\\t', dtype=np.int16)\n",
    "    return data\n",
    "\n",
    "def get_movies():\n",
    "    movie_id = np.loadtxt(\"data/movies.txt\", delimiter='\\t', usecols=0, \n",
    "                          encoding='iso 8859-1', dtype=np.int16)\n",
    "    movie_title = np.loadtxt(\"data/movies.txt\", delimiter='\\t', usecols=1, \n",
    "                          encoding='iso 8859-1', dtype=object)\n",
    "    movie_genre = np.loadtxt(\"data/movies.txt\", delimiter='\\t', usecols=np.arange(2, 21), \n",
    "                          encoding='iso 8859-1', dtype=np.int16)\n",
    "    genres = np.array(['Unknown', 'Action', 'Adventure', 'Animation', 'Childrens', 'Comedy', \n",
    "                      'Crime', 'Documentary', 'Drama', 'Fantasy', 'Film-Noir', 'Horror', \n",
    "                       'Musical', 'Mystery', 'Romance', 'Sci-Fi', 'Thriller', 'War', 'Western'])\n",
    "    return movie_id, movie_title, movie_genre, genres\n"
   ]
  },
  {
   "cell_type": "code",
   "execution_count": 95,
   "metadata": {
    "collapsed": true
   },
   "outputs": [],
   "source": [
    "movie_id, movie_title, movie_genre, genres = get_movies()"
   ]
  },
  {
   "cell_type": "code",
   "execution_count": 96,
   "metadata": {},
   "outputs": [
    {
     "name": "stdout",
     "output_type": "stream",
     "text": [
      "1104 C'est arrivé près de chez vous (1992) [0 0 0 0 0 1 1 0 1 0 0 0 0 0 0 0 0 0 0]\n"
     ]
    }
   ],
   "source": [
    "print(movie_id[1103], movie_title[1103], movie_genre[1103])"
   ]
  },
  {
   "cell_type": "code",
   "execution_count": 97,
   "metadata": {},
   "outputs": [
    {
     "name": "stdout",
     "output_type": "stream",
     "text": [
      "['Comedy' 'Crime' 'Drama']\n"
     ]
    }
   ],
   "source": [
    "print(genres[movie_genre[1103].astype(bool)])"
   ]
  },
  {
   "cell_type": "code",
   "execution_count": 9,
   "metadata": {},
   "outputs": [
    {
     "name": "stdout",
     "output_type": "stream",
     "text": [
      "[[ 4.  5.  1. nan  2.]\n",
      " [ 3.  1.  9.  5. nan]]\n",
      "[2 2 2 1 1]\n"
     ]
    }
   ],
   "source": [
    "a = np.array([[4, 5, 1, np.nan, 2], [3, 1, 9, 5, np.nan]])\n",
    "print(a)\n",
    "print(np.sum(1-np.isnan(a), axis=0))"
   ]
  },
  {
   "cell_type": "code",
   "execution_count": null,
   "metadata": {
    "collapsed": true
   },
   "outputs": [],
   "source": []
  }
 ],
 "metadata": {
  "kernelspec": {
   "display_name": "Python 3",
   "language": "python",
   "name": "python3"
  },
  "language_info": {
   "codemirror_mode": {
    "name": "ipython",
    "version": 3
   },
   "file_extension": ".py",
   "mimetype": "text/x-python",
   "name": "python",
   "nbconvert_exporter": "python",
   "pygments_lexer": "ipython3",
   "version": "3.6.3"
  }
 },
 "nbformat": 4,
 "nbformat_minor": 2
}
