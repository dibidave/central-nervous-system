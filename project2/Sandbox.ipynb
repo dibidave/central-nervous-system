{
 "cells": [
  {
   "cell_type": "code",
   "execution_count": 1,
   "metadata": {},
   "outputs": [],
   "source": [
    "import numpy as np"
   ]
  },
  {
   "cell_type": "code",
   "execution_count": 96,
   "metadata": {},
   "outputs": [
    {
     "name": "stdout",
     "output_type": "stream",
     "text": [
      "1104 C'est arrivé près de chez vous (1992) [0 0 0 0 0 1 1 0 1 0 0 0 0 0 0 0 0 0 0]\n"
     ]
    }
   ],
   "source": [
    "print(movie_id[1103], movie_title[1103], movie_genre[1103])"
   ]
  },
  {
   "cell_type": "code",
   "execution_count": 97,
   "metadata": {},
   "outputs": [
    {
     "name": "stdout",
     "output_type": "stream",
     "text": [
      "['Comedy' 'Crime' 'Drama']\n"
     ]
    }
   ],
   "source": [
    "print(genres[movie_genre[1103].astype(bool)])"
   ]
  },
  {
   "cell_type": "code",
   "execution_count": 18,
   "metadata": {},
   "outputs": [],
   "source": [
    "import utils"
   ]
  },
  {
   "cell_type": "code",
   "execution_count": 19,
   "metadata": {},
   "outputs": [
    {
     "name": "stdout",
     "output_type": "stream",
     "text": [
      "(943, 1682)\n"
     ]
    }
   ],
   "source": [
    "Y = utils.get_data()\n",
    "\n",
    "M = 943 # users\n",
    "N = 1682 # movies\n",
    "YM = utils.list_to_matrix(Y, M, N)\n",
    "print(YM.shape)"
   ]
  },
  {
   "cell_type": "code",
   "execution_count": 25,
   "metadata": {},
   "outputs": [
    {
     "name": "stdout",
     "output_type": "stream",
     "text": [
      "The avarage rating is 3.52986\n"
     ]
    }
   ],
   "source": [
    "print('The avarage rating is', np.mean(Y[:, 2]))"
   ]
  },
  {
   "cell_type": "code",
   "execution_count": 28,
   "metadata": {},
   "outputs": [
    {
     "name": "stdout",
     "output_type": "stream",
     "text": [
      "(1682,)\n"
     ]
    }
   ],
   "source": [
    "thr = 5\n",
    "C = np.mean(Y[:, 2]) # Mean rating of all movies\n",
    "counts = np.sum(1-np.isnan(YM), axis=0) # Number of ratings for each movie\n",
    "counts_sum = np.sum(counts)\n",
    "ratings = np.nanmean(YM, axis=0) # Mean rating of the movies\n",
    "ratings_all = np.full((N,), C)\n",
    "weights = counts/(counts+thr)\n",
    "ratings_bayesian = weights*ratings+(1-weights)*ratings_all\n",
    "print(ratings_bayesian.shape)"
   ]
  }
 ],
 "metadata": {
  "kernelspec": {
   "display_name": "Python 3",
   "language": "python",
   "name": "python3"
  },
  "language_info": {
   "codemirror_mode": {
    "name": "ipython",
    "version": 3
   },
   "file_extension": ".py",
   "mimetype": "text/x-python",
   "name": "python",
   "nbconvert_exporter": "python",
   "pygments_lexer": "ipython3",
   "version": "3.5.4"
  }
 },
 "nbformat": 4,
 "nbformat_minor": 2
}
