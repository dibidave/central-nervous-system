{
 "cells": [
  {
   "cell_type": "code",
   "execution_count": 20,
   "metadata": {},
   "outputs": [],
   "source": [
    "import pandas as pd\n",
    "import seaborn as sns\n",
    "import matplotlib.pyplot as plt\n",
    "%config InlineBackend.figure_format='retina'\n",
    "from surprise import SVD\n",
    "from surprise import Dataset\n",
    "from surprise.model_selection import cross_validate\n",
    "\n",
    "sns.set()\n",
    "ratings = pd.read_table('data/data.txt', header = None, names = ['user', 'movie', 'rating'])\n",
    "headers = ['Id','Title', 'Unknown', 'Action', 'Adventure', 'Animation', 'Childrens', 'Comedy', \n",
    "           'Crime','Documentary', 'Drama', 'Fantasy', 'Noir', 'Horror', 'Musical', 'Mystery', \n",
    "           'Romance', 'Scifi', 'Thriller', 'War', 'Western']\n",
    "movies = pd.read_table('data/movies3.txt', header = None, names = headers)\n",
    "movies.index = movies.index + 1\n",
    "\n",
    "test = pd.read_table('data/test.txt', header = None, names = ['user', 'movie', 'rating'])\n",
    "train = pd.read_table('data/train.txt', header = None, names = ['user', 'movie', 'rating'])\n",
    "\n"
   ]
  },
  {
   "cell_type": "markdown",
   "metadata": {},
   "source": [
    "Documentation for SVD: \n",
    "http://surprise.readthedocs.io/en/stable/matrix_factorization.html#surprise.prediction_algorithms.matrix_factorization.SVD"
   ]
  },
  {
   "cell_type": "code",
   "execution_count": 76,
   "metadata": {},
   "outputs": [
    {
     "name": "stdout",
     "output_type": "stream",
     "text": [
      "RMSE: 0.9363\n"
     ]
    }
   ],
   "source": [
    "import surprise\n",
    "from surprise import accuracy\n",
    "pkf = surprise.model_selection.PredefinedKFold()\n",
    "reader = Reader(rating_scale=(1, 5))\n",
    "\n",
    "fulldata = Dataset.load_from_folds([('data/train.txt','data/test.txt')],reader)\n",
    "\n",
    "algo = SVD(n_factors = 30, n_epochs = 30, biased = True)\n",
    "\n",
    "for trainset, testset in pkf.split(fulldata):\n",
    "\n",
    "    # train and test algorithm.\n",
    "    algo.fit(trainset)\n",
    "    predictions = algo.test(testset)\n",
    "\n",
    "    # Compute and print Root Mean Squared Error\n",
    "    accuracy.rmse(predictions, verbose=True)\n",
    "    "
   ]
  },
  {
   "cell_type": "code",
   "execution_count": 80,
   "metadata": {},
   "outputs": [
    {
     "data": {
      "text/plain": [
       "(943, 100)"
      ]
     },
     "execution_count": 80,
     "metadata": {},
     "output_type": "execute_result"
    }
   ],
   "source": [
    "np.shape(algo.pu)"
   ]
  },
  {
   "cell_type": "code",
   "execution_count": 81,
   "metadata": {},
   "outputs": [
    {
     "data": {
      "text/plain": [
       "(1668, 100)"
      ]
     },
     "execution_count": 81,
     "metadata": {},
     "output_type": "execute_result"
    }
   ],
   "source": [
    "np.shape(algo.qi)"
   ]
  },
  {
   "cell_type": "code",
   "execution_count": 82,
   "metadata": {},
   "outputs": [
    {
     "data": {
      "text/plain": [
       "(943,)"
      ]
     },
     "execution_count": 82,
     "metadata": {},
     "output_type": "execute_result"
    }
   ],
   "source": [
    "np.shape(algo.bu)"
   ]
  },
  {
   "cell_type": "code",
   "execution_count": 83,
   "metadata": {},
   "outputs": [
    {
     "data": {
      "text/plain": [
       "(1668,)"
      ]
     },
     "execution_count": 83,
     "metadata": {},
     "output_type": "execute_result"
    }
   ],
   "source": [
    "np.shape(algo.bi)"
   ]
  },
  {
   "cell_type": "code",
   "execution_count": null,
   "metadata": {},
   "outputs": [],
   "source": []
  }
 ],
 "metadata": {
  "kernelspec": {
   "display_name": "Python 3",
   "language": "python",
   "name": "python3"
  },
  "language_info": {
   "codemirror_mode": {
    "name": "ipython",
    "version": 3
   },
   "file_extension": ".py",
   "mimetype": "text/x-python",
   "name": "python",
   "nbconvert_exporter": "python",
   "pygments_lexer": "ipython3",
   "version": "3.6.4"
  }
 },
 "nbformat": 4,
 "nbformat_minor": 2
}
