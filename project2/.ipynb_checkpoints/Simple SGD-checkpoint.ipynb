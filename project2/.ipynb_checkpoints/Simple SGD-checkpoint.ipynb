{
 "cells": [
  {
   "cell_type": "code",
   "execution_count": 1,
   "metadata": {},
   "outputs": [],
   "source": [
    "import utils\n",
    "import collaborative_filtering as cf"
   ]
  },
  {
   "cell_type": "code",
   "execution_count": 2,
   "metadata": {},
   "outputs": [],
   "source": [
    "Y_train = utils.get_training_data()\n",
    "Y_test = utils.get_test_data()\n",
    "\n",
    "M = 943 # users\n",
    "N = 1682 # movies\n",
    "K = 10\n",
    "reg = 0.1\n",
    "eta = 0.03"
   ]
  },
  {
   "cell_type": "code",
   "execution_count": 3,
   "metadata": {},
   "outputs": [
    {
     "name": "stdout",
     "output_type": "stream",
     "text": [
      "Epoch  0  of  300\n",
      "Epoch  10  of  300\n"
     ]
    }
   ],
   "source": [
    "U, V, err = cf.train_model(Y_train, M, N, K, eta, reg)\n",
    "err_test = cf.get_err(U, V, Y_test)"
   ]
  },
  {
   "cell_type": "code",
   "execution_count": 8,
   "metadata": {},
   "outputs": [
    {
     "name": "stdout",
     "output_type": "stream",
     "text": [
      "Average training error = 0.350\n",
      "Average test error = 0.455\n"
     ]
    }
   ],
   "source": [
    "print('Average training error =', '{:.3f}'.format(err/len(Y_train)))\n",
    "print('Average test error =', '{:.3f}'.format(err_test/len(Y_test)))"
   ]
  }
 ],
 "metadata": {
  "kernelspec": {
   "display_name": "Python 3",
   "language": "python",
   "name": "python3"
  },
  "language_info": {
   "codemirror_mode": {
    "name": "ipython",
    "version": 3
   },
   "file_extension": ".py",
   "mimetype": "text/x-python",
   "name": "python",
   "nbconvert_exporter": "python",
   "pygments_lexer": "ipython3",
   "version": "3.5.4"
  }
 },
 "nbformat": 4,
 "nbformat_minor": 2
}
