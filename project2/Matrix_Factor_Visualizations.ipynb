{
 "cells": [
  {
   "cell_type": "markdown",
   "metadata": {},
   "source": [
    "# 5 Matrix Factorization Visualizations"
   ]
  },
  {
   "cell_type": "code",
   "execution_count": 1,
   "metadata": {},
   "outputs": [],
   "source": [
    "# Setup\n",
    "import utils\n",
    "import matrix_factorization as mf\n",
    "import numpy as np\n",
    "import pandas as pd\n",
    "import seaborn as sns\n",
    "import matplotlib.pyplot as plt\n",
    "%config InlineBackend.figure_format='retina'\n",
    "sns.set()\n",
    "sns.set_style(\"white\")"
   ]
  },
  {
   "cell_type": "code",
   "execution_count": 2,
   "metadata": {},
   "outputs": [],
   "source": [
    "# Y_train = utils.get_training_data()\n",
    "# Y_test = utils.get_test_data()\n",
    "Y = utils.get_data()\n",
    "movie_id, movie_title, movie_genre, genres = utils.get_movies()\n",
    "genre_similarity = utils.genre_similarity(movie_genre)\n",
    "\n",
    "M = 943 # users\n",
    "N = 1682 # movies\n",
    "K = 20\n",
    "reg = 0.1\n",
    "eta = 0.03"
   ]
  },
  {
   "cell_type": "markdown",
   "metadata": {},
   "source": [
    "## 1. Simple SGD from Homework"
   ]
  },
  {
   "cell_type": "code",
   "execution_count": null,
   "metadata": {},
   "outputs": [],
   "source": [
    "U_simple, V_simple, err_simple = mf.train_model(Y, M, N, K, eta, reg)"
   ]
  },
  {
   "cell_type": "markdown",
   "metadata": {},
   "source": [
    "## 2. Incorporating a Bias Term"
   ]
  },
  {
   "cell_type": "code",
   "execution_count": null,
   "metadata": {},
   "outputs": [],
   "source": [
    "U_bias, V_bias, err_bias = mf.train_model(Y, M, N, K, eta, reg, include_bias=True)"
   ]
  },
  {
   "cell_type": "code",
   "execution_count": null,
   "metadata": {},
   "outputs": [],
   "source": [
    "# print('Average training error =', '{:.3f}'.format(err/len(Y_train)))\n",
    "# print('Average test error =', '{:.3f}'.format(err_test/len(Y_test)))"
   ]
  },
  {
   "cell_type": "code",
   "execution_count": null,
   "metadata": {},
   "outputs": [],
   "source": [
    "A, S, B = np.linalg.svd(V) # SVD for the latent factor of the movies\n",
    "print(A.shape, S.shape, B.shape)\n",
    "V2 = A.T[:2, :]@V # Project V to 2D\n",
    "print(V2.shape)"
   ]
  },
  {
   "cell_type": "code",
   "execution_count": null,
   "metadata": {},
   "outputs": [],
   "source": [
    "YM = utils.list_to_matrix(Y, M, N)\n",
    "counts, ratings, ratings_bayesian = utils.bayesian_rating(Y, thr=4)\n",
    "rank_counts = np.argsort(-counts) # Indices of counts in descending order\n",
    "rank_ratings = np.argsort(-ratings) # Indices of ratings in descending order\n",
    "rank_ratings_bayesian = np.argsort(-ratings_bayesian) # Indices of ratings in descending order\n",
    "print(ratings[rank_ratings[:5]], counts[rank_ratings[:5]])\n",
    "print(ratings[rank_ratings_bayesian[:5]], counts[rank_ratings_bayesian[:5]])\n",
    "print(movie_title[rank_ratings_bayesian[:5]])"
   ]
  },
  {
   "cell_type": "code",
   "execution_count": null,
   "metadata": {},
   "outputs": [],
   "source": [
    "sns.set_style(\"ticks\")\n",
    "n_genres = len(genres)\n",
    "genre_similarity_nodiag = genre_similarity.copy()\n",
    "for i in range(n_genres):\n",
    "    genre_similarity_nodiag[i, i] = np.nan\n",
    "plt.figure(dpi=300)\n",
    "plt.imshow(np.rot90(genre_similarity_nodiag, 2), extent=[0.5, n_genres+0.5, 0.5, n_genres+0.5],\n",
    "          cmap='viridis')\n",
    "plt.xticks(np.arange(n_genres)+1, genres[::-1], rotation='vertical')\n",
    "plt.yticks(np.arange(n_genres)+1, genres)\n",
    "plt.colorbar()\n",
    "plt.title('Probability of a movie belonging to a certain combination of genres')\n",
    "plt.show()"
   ]
  },
  {
   "cell_type": "code",
   "execution_count": null,
   "metadata": {},
   "outputs": [],
   "source": [
    "plt.figure(dpi=300)\n",
    "plt.scatter(V2[0, :], V2[1, :], 5, ratings_bayesian, cmap='viridis')\n",
    "plt.title('2D visualization of avarage movie ratings, bayesian corrected')\n",
    "plt.colorbar()\n",
    "plt.axis('off')\n",
    "plt.show()"
   ]
  },
  {
   "cell_type": "code",
   "execution_count": null,
   "metadata": {},
   "outputs": [],
   "source": [
    "plt.figure(dpi=300)\n",
    "plt.scatter(V2[0, :], V2[1, :], 5, counts, cmap='viridis')\n",
    "plt.title('2D visualization of number of movie ratings')\n",
    "plt.colorbar()\n",
    "plt.axis('off')\n",
    "plt.show()"
   ]
  },
  {
   "cell_type": "code",
   "execution_count": null,
   "metadata": {},
   "outputs": [],
   "source": [
    "plt.figure(dpi=300)\n",
    "plt.scatter(V2[0, :], V2[1, :], 1, 'gray')\n",
    "for idx in rank_ratings_bayesian[:10]:\n",
    "    plt.scatter(V2[0, idx], V2[1, idx], 20, label=movie_title[idx])\n",
    "plt.axis('off')\n",
    "plt.legend(prop={'size': 5})\n",
    "plt.title('2D visualization of the ten best movies\\naccording to the bayesian corrected ratings')\n",
    "plt.show()"
   ]
  },
  {
   "cell_type": "code",
   "execution_count": null,
   "metadata": {},
   "outputs": [],
   "source": [
    "plt.figure(dpi=300)\n",
    "plt.scatter(V2[0, :], V2[1, :], 1, 'gray')\n",
    "for idx in rank_counts[:10]:\n",
    "    plt.scatter(V2[0, idx], V2[1, idx], 20, label=movie_title[idx])\n",
    "plt.axis('off')\n",
    "plt.legend(prop={'size': 5})\n",
    "plt.title('2D visualization of the ten most popular movies')\n",
    "plt.show()"
   ]
  },
  {
   "cell_type": "markdown",
   "metadata": {},
   "source": []
  },
  {
   "cell_type": "code",
   "execution_count": null,
   "metadata": {},
   "outputs": [],
   "source": []
  }
 ],
 "metadata": {
  "kernelspec": {
   "display_name": "Python 3",
   "language": "python",
   "name": "python3"
  },
  "language_info": {
   "codemirror_mode": {
    "name": "ipython",
    "version": 3
   },
   "file_extension": ".py",
   "mimetype": "text/x-python",
   "name": "python",
   "nbconvert_exporter": "python",
   "pygments_lexer": "ipython3",
   "version": "3.6.3"
  }
 },
 "nbformat": 4,
 "nbformat_minor": 2
}
