{
 "cells": [
  {
   "cell_type": "markdown",
   "metadata": {},
   "source": []
  },
  {
   "cell_type": "raw",
   "metadata": {},
   "source": [
    "import utils\n",
    "from keras.layers import Input, Dense\n",
    "from keras.models import Model\n",
    "from sklearn.ensemble import RandomForestClassifier\n",
    "from sklearn.tree import DecisionTreeClassifier\n",
    "import numpy"
   ]
  },
  {
   "cell_type": "code",
   "execution_count": 2,
   "metadata": {},
   "outputs": [],
   "source": [
    "x_train, y_train, x_test, y_test = utils.get_training_data(0.2, onehot=0, standardize=True)"
   ]
  },
  {
   "cell_type": "code",
   "execution_count": 42,
   "metadata": {},
   "outputs": [
    {
     "name": "stdout",
     "output_type": "stream",
     "text": [
      "Train on 16000 samples, validate on 4000 samples\n",
      "Epoch 1/50\n",
      "16000/16000 [==============================] - 2s 102us/step - loss: 3.3372 - val_loss: 2.8671\n",
      "Epoch 2/50\n",
      "16000/16000 [==============================] - 2s 95us/step - loss: 2.5287 - val_loss: 2.1990\n",
      "Epoch 3/50\n",
      "16000/16000 [==============================] - 2s 94us/step - loss: 2.0002 - val_loss: 1.8503\n",
      "Epoch 4/50\n",
      "16000/16000 [==============================] - 1s 93us/step - loss: 1.7527 - val_loss: 1.6951\n",
      "Epoch 5/50\n",
      "16000/16000 [==============================] - 2s 95us/step - loss: 1.6369 - val_loss: 1.6173\n",
      "Epoch 6/50\n",
      "16000/16000 [==============================] - 1s 91us/step - loss: 1.5762 - val_loss: 1.5753\n",
      "Epoch 7/50\n",
      "16000/16000 [==============================] - 2s 94us/step - loss: 1.5403 - val_loss: 1.5502\n",
      "Epoch 8/50\n",
      "16000/16000 [==============================] - 1s 91us/step - loss: 1.5179 - val_loss: 1.5332\n",
      "Epoch 9/50\n",
      "16000/16000 [==============================] - 1s 91us/step - loss: 1.5020 - val_loss: 1.5233\n",
      "Epoch 10/50\n",
      "16000/16000 [==============================] - 1s 91us/step - loss: 1.4911 - val_loss: 1.5162\n",
      "Epoch 11/50\n",
      "16000/16000 [==============================] - 1s 93us/step - loss: 1.4824 - val_loss: 1.5099\n",
      "Epoch 12/50\n",
      "16000/16000 [==============================] - 2s 97us/step - loss: 1.4757 - val_loss: 1.5058\n",
      "Epoch 13/50\n",
      "16000/16000 [==============================] - 2s 97us/step - loss: 1.4700 - val_loss: 1.5031\n",
      "Epoch 14/50\n",
      "16000/16000 [==============================] - 1s 93us/step - loss: 1.4655 - val_loss: 1.4989\n",
      "Epoch 15/50\n",
      "16000/16000 [==============================] - 2s 101us/step - loss: 1.4616 - val_loss: 1.4965\n",
      "Epoch 16/50\n",
      "16000/16000 [==============================] - 2s 109us/step - loss: 1.4576 - val_loss: 1.4946\n",
      "Epoch 17/50\n",
      "16000/16000 [==============================] - 1s 91us/step - loss: 1.4545 - val_loss: 1.4923\n",
      "Epoch 18/50\n",
      "16000/16000 [==============================] - 2s 94us/step - loss: 1.4519 - val_loss: 1.4905\n",
      "Epoch 19/50\n",
      "16000/16000 [==============================] - 1s 91us/step - loss: 1.4496 - val_loss: 1.4891\n",
      "Epoch 20/50\n",
      "16000/16000 [==============================] - 2s 94us/step - loss: 1.4472 - val_loss: 1.4889\n",
      "Epoch 21/50\n",
      "16000/16000 [==============================] - 2s 102us/step - loss: 1.4456 - val_loss: 1.4866\n",
      "Epoch 22/50\n",
      "16000/16000 [==============================] - 2s 113us/step - loss: 1.4438 - val_loss: 1.4851\n",
      "Epoch 23/50\n",
      "16000/16000 [==============================] - 2s 102us/step - loss: 1.4421 - val_loss: 1.4842\n",
      "Epoch 24/50\n",
      "16000/16000 [==============================] - 1s 93us/step - loss: 1.4403 - val_loss: 1.4826\n",
      "Epoch 25/50\n",
      "16000/16000 [==============================] - 2s 96us/step - loss: 1.4387 - val_loss: 1.4814\n",
      "Epoch 26/50\n",
      "16000/16000 [==============================] - 2s 99us/step - loss: 1.4376 - val_loss: 1.4809\n",
      "Epoch 27/50\n",
      "16000/16000 [==============================] - 2s 94us/step - loss: 1.4362 - val_loss: 1.4792\n",
      "Epoch 28/50\n",
      "16000/16000 [==============================] - 2s 116us/step - loss: 1.4350 - val_loss: 1.4783\n",
      "Epoch 29/50\n",
      "16000/16000 [==============================] - 2s 95us/step - loss: 1.4338 - val_loss: 1.4771\n",
      "Epoch 30/50\n",
      "16000/16000 [==============================] - 2s 106us/step - loss: 1.4328 - val_loss: 1.4764\n",
      "Epoch 31/50\n",
      "16000/16000 [==============================] - 2s 111us/step - loss: 1.4316 - val_loss: 1.4745\n",
      "Epoch 32/50\n",
      "16000/16000 [==============================] - 2s 110us/step - loss: 1.4306 - val_loss: 1.4739\n",
      "Epoch 33/50\n",
      "16000/16000 [==============================] - 2s 112us/step - loss: 1.4299 - val_loss: 1.4730\n",
      "Epoch 34/50\n",
      "16000/16000 [==============================] - 2s 98us/step - loss: 1.4288 - val_loss: 1.4715\n",
      "Epoch 35/50\n",
      "16000/16000 [==============================] - 1s 88us/step - loss: 1.4276 - val_loss: 1.4706\n",
      "Epoch 36/50\n",
      "16000/16000 [==============================] - 1s 88us/step - loss: 1.4270 - val_loss: 1.4701\n",
      "Epoch 37/50\n",
      "16000/16000 [==============================] - 1s 87us/step - loss: 1.4262 - val_loss: 1.4693\n",
      "Epoch 38/50\n",
      "16000/16000 [==============================] - 1s 92us/step - loss: 1.4255 - val_loss: 1.4683\n",
      "Epoch 39/50\n",
      "16000/16000 [==============================] - 1s 92us/step - loss: 1.4247 - val_loss: 1.4675\n",
      "Epoch 40/50\n",
      "16000/16000 [==============================] - 1s 89us/step - loss: 1.4240 - val_loss: 1.4667\n",
      "Epoch 41/50\n",
      "16000/16000 [==============================] - 1s 91us/step - loss: 1.4231 - val_loss: 1.4661\n",
      "Epoch 42/50\n",
      "16000/16000 [==============================] - 2s 96us/step - loss: 1.4225 - val_loss: 1.4644\n",
      "Epoch 43/50\n",
      "16000/16000 [==============================] - 1s 88us/step - loss: 1.4219 - val_loss: 1.4647\n",
      "Epoch 44/50\n",
      "16000/16000 [==============================] - 1s 87us/step - loss: 1.4212 - val_loss: 1.4625\n",
      "Epoch 45/50\n",
      "16000/16000 [==============================] - 1s 92us/step - loss: 1.4205 - val_loss: 1.4624\n",
      "Epoch 46/50\n",
      "16000/16000 [==============================] - 2s 95us/step - loss: 1.4198 - val_loss: 1.4609\n",
      "Epoch 47/50\n",
      "16000/16000 [==============================] - 2s 97us/step - loss: 1.4191 - val_loss: 1.4604\n",
      "Epoch 48/50\n",
      "16000/16000 [==============================] - 1s 90us/step - loss: 1.4189 - val_loss: 1.4601\n",
      "Epoch 49/50\n",
      "16000/16000 [==============================] - 1s 89us/step - loss: 1.4180 - val_loss: 1.4587\n",
      "Epoch 50/50\n",
      "16000/16000 [==============================] - 2s 106us/step - loss: 1.4176 - val_loss: 1.4585\n"
     ]
    },
    {
     "data": {
      "text/plain": [
       "<keras.callbacks.History at 0x7f27506f99e8>"
      ]
     },
     "execution_count": 42,
     "metadata": {},
     "output_type": "execute_result"
    }
   ],
   "source": [
    "# this is the size of our encoded representations\n",
    "encoding_dim = 100\n",
    "\n",
    "# this is our input placeholder\n",
    "input_features = Input(shape=(x_train.shape[1],))\n",
    "# \"encoded\" is the encoded representation of the input\n",
    "encoded = Dense(encoding_dim, activation='relu')(input_features)\n",
    "# \"decoded\" is the lossy reconstruction of the input\n",
    "decoded = Dense(x_train.shape[1], activation='relu')(encoded)\n",
    "\n",
    "# this model maps an input to its reconstruction\n",
    "autoencoder = Model(input_features, decoded)\n",
    "autoencoder.compile(optimizer='adam', loss='mse')\n",
    "\n",
    "encoder = Model(input_features, encoded)\n",
    "\n",
    "# create a placeholder for an encoded (100-dimensional) input\n",
    "encoded_input = Input(shape=(encoding_dim,))\n",
    "# retrieve the last layer of the autoencoder model\n",
    "decoder_layer = autoencoder.layers[-1]\n",
    "# create the decoder model\n",
    "decoder = Model(encoded_input, decoder_layer(encoded_input))\n",
    "\n",
    "autoencoder.fit(x_train, x_train,\n",
    "                epochs=50,\n",
    "                batch_size=256,\n",
    "                shuffle=True,\n",
    "                validation_data=(x_test, x_test))"
   ]
  },
  {
   "cell_type": "code",
   "execution_count": 43,
   "metadata": {},
   "outputs": [],
   "source": [
    "# Create a new training set based on the encoder predictions\n",
    "\n",
    "x_train_encoded = encoder.predict(x_train)\n",
    "x_test_encoded = encoder.predict(x_test)"
   ]
  },
  {
   "cell_type": "code",
   "execution_count": 47,
   "metadata": {},
   "outputs": [
    {
     "data": {
      "text/plain": [
       "RandomForestClassifier(bootstrap=True, class_weight=None, criterion='gini',\n",
       "            max_depth=10, max_features='auto', max_leaf_nodes=None,\n",
       "            min_impurity_decrease=0.0, min_impurity_split=None,\n",
       "            min_samples_leaf=5, min_samples_split=2,\n",
       "            min_weight_fraction_leaf=0.0, n_estimators=1000, n_jobs=1,\n",
       "            oob_score=False, random_state=None, verbose=0,\n",
       "            warm_start=False)"
      ]
     },
     "execution_count": 47,
     "metadata": {},
     "output_type": "execute_result"
    }
   ],
   "source": [
    "num_estimators = 1000\n",
    "classifier = RandomForestClassifier(n_estimators=num_estimators, max_depth=10, min_samples_leaf=5)\n",
    "classifier.fit(x_train_encoded, y_train)"
   ]
  },
  {
   "cell_type": "code",
   "execution_count": 48,
   "metadata": {},
   "outputs": [
    {
     "data": {
      "text/plain": [
       "0.9594375"
      ]
     },
     "execution_count": 48,
     "metadata": {},
     "output_type": "execute_result"
    }
   ],
   "source": [
    "classifier.score(x_train_encoded, y_train)"
   ]
  },
  {
   "cell_type": "code",
   "execution_count": 49,
   "metadata": {},
   "outputs": [
    {
     "data": {
      "text/plain": [
       "0.7375"
      ]
     },
     "execution_count": 49,
     "metadata": {},
     "output_type": "execute_result"
    }
   ],
   "source": [
    "classifier.score(x_test_encoded, y_test)"
   ]
  },
  {
   "cell_type": "code",
   "execution_count": null,
   "metadata": {},
   "outputs": [],
   "source": []
  }
 ],
 "metadata": {
  "kernelspec": {
   "display_name": "Python 3",
   "language": "python",
   "name": "python3"
  },
  "language_info": {
   "codemirror_mode": {
    "name": "ipython",
    "version": 3
   },
   "file_extension": ".py",
   "mimetype": "text/x-python",
   "name": "python",
   "nbconvert_exporter": "python",
   "pygments_lexer": "ipython3",
   "version": "3.6.3"
  }
 },
 "nbformat": 4,
 "nbformat_minor": 2
}
